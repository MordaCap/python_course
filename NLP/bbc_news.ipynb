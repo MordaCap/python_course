{
 "cells": [
  {
   "cell_type": "code",
   "execution_count": 1,
   "metadata": {},
   "outputs": [],
   "source": [
    "from collections import defaultdict, deque\n",
    "import logging\n",
    "import pathlib\n",
    "import re\n",
    "import time\n",
    "from urllib.parse import urljoin\n",
    "\n",
    "import lxml.html\n",
    "import requests"
   ]
  },
  {
   "cell_type": "code",
   "execution_count": 2,
   "metadata": {},
   "outputs": [],
   "source": [
    "logging.basicConfig(level=logging.INFO)"
   ]
  },
  {
   "cell_type": "code",
   "execution_count": 3,
   "metadata": {},
   "outputs": [],
   "source": [
    "BASE_URL = 'https://www.bbc.com/news'\n",
    "DATA_DIR = pathlib.Path('./data')\n",
    "KNOWN_TYPES = {'website', 'article'}"
   ]
  },
  {
   "cell_type": "code",
   "execution_count": null,
   "metadata": {},
   "outputs": [],
   "source": []
  },
  {
   "cell_type": "code",
   "execution_count": 4,
   "metadata": {},
   "outputs": [],
   "source": [
    "def fetch_page(url):\n",
    "    res = requests.get(url)\n",
    "    res.raise_for_status()\n",
    "    return res.text\n",
    "\n",
    "text = fetch_page(BASE_URL)"
   ]
  },
  {
   "cell_type": "code",
   "execution_count": 5,
   "metadata": {},
   "outputs": [
    {
     "data": {
      "text/plain": [
       "(37,\n",
       " ['/news/blogs-trending-44495136',\n",
       "  '/news/blogs-trending-45331730',\n",
       "  '/news/business-11428889',\n",
       "  '/news/business-12686570',\n",
       "  '/news/business-22434141',\n",
       "  '/news/business-38507481',\n",
       "  '/news/entertainment-arts-45329060',\n",
       "  '/news/in-pictures-45209586',\n",
       "  '/news/newsbeat-45245349',\n",
       "  '/news/technology-45333960',\n",
       "  '/news/technology-45341822',\n",
       "  '/news/world-asia-china-45338985',\n",
       "  '/news/world-asia-india-45339265',\n",
       "  '/news/world-australia-45206206',\n",
       "  '/news/world-australia-45339727',\n",
       "  '/news/world-europe-44709253',\n",
       "  '/news/world-europe-45328477',\n",
       "  '/news/world-europe-45340716',\n",
       "  '/news/world-europe-45342536',\n",
       "  '/news/world-europe-45342721',\n",
       "  '/news/world-europe-45345516',\n",
       "  '/news/world-europe-45346629',\n",
       "  '/news/world-europe-45347228',\n",
       "  '/news/world-latin-america-45341575',\n",
       "  '/news/world-us-canada-44009916',\n",
       "  '/news/world-us-canada-45226132',\n",
       "  '/news/world-us-canada-45229580',\n",
       "  '/news/world-us-canada-45300969',\n",
       "  '/news/world-us-canada-45329320',\n",
       "  '/news/world-us-canada-45333440',\n",
       "  '/news/world-us-canada-45337890',\n",
       "  '/news/world-us-canada-45338698',\n",
       "  '/news/world-us-canada-45340275',\n",
       "  '/news/world-us-canada-45340655',\n",
       "  '/news/world-us-canada-45343328',\n",
       "  '/news/world-us-canada-45348256',\n",
       "  '/news/world-us-canada-45348356'])"
      ]
     },
     "execution_count": 5,
     "metadata": {},
     "output_type": "execute_result"
    }
   ],
   "source": [
    "html = lxml.html.fromstring(text)\n",
    "urls = html.xpath('.//a[@href]/@href')\n",
    "urls = sorted({url for url in urls if re.match(r'/news/.+?\\d$', url)})\n",
    "len(urls), urls"
   ]
  },
  {
   "cell_type": "code",
   "execution_count": 6,
   "metadata": {},
   "outputs": [
    {
     "data": {
      "text/plain": [
       "(10,\n",
       " {'article:author': 'https://www.facebook.com/bbcnews',\n",
       "  'fb:admins': '100004154058350',\n",
       "  'og:article:section': 'Home',\n",
       "  'og:description': 'Visit BBC News for up-to-the-minute news, breaking news, video, audio and feature stories. BBC News provides trusted World and UK news as well as local and regional perspectives. Also entertainment, business, science, technology and health news.',\n",
       "  'og:image': '//m.files.bbci.co.uk/modules/bbc-morph-news-waf-page-meta/2.2.2/bbc_news_logo.png',\n",
       "  'og:locale': 'en_GB',\n",
       "  'og:site_name': 'BBC News',\n",
       "  'og:title': 'Home - BBC News',\n",
       "  'og:type': 'website',\n",
       "  'og:url': 'https://www.bbc.co.uk/news'})"
      ]
     },
     "execution_count": 6,
     "metadata": {},
     "output_type": "execute_result"
    }
   ],
   "source": [
    "meta = html.xpath('.//meta[@property and @content]')\n",
    "len(meta), {item.attrib['property']: item.attrib['content'] for item in meta}"
   ]
  },
  {
   "cell_type": "code",
   "execution_count": 7,
   "metadata": {},
   "outputs": [],
   "source": [
    "class Page:\n",
    "    def __init__(self, url):\n",
    "        self.url = url\n",
    "        self._text = None\n",
    "        self._html = None\n",
    "        \n",
    "    @property\n",
    "    def text(self):\n",
    "        self._require_text()\n",
    "        return self._text\n",
    "\n",
    "    def extract_urls(self):\n",
    "        self._require_html()\n",
    "        urls = self._html.xpath('.//a[@href]/@href')\n",
    "        # make the urls absolute\n",
    "        return {urljoin(self.url, url) for url in urls if re.match(r'/news/.+?\\d$', url)}\n",
    "    \n",
    "    def extract_meta_properties(self):\n",
    "        self._require_html()\n",
    "        meta = self._html.xpath('.//meta[@property and @content]')\n",
    "        return {item.attrib['property']: item.attrib['content'] for item in meta}\n",
    "    \n",
    "    def _require_text(self):\n",
    "        if not self._text:\n",
    "            self._text = fetch_page(self.url)\n",
    "            \n",
    "    def _require_html(self):\n",
    "        self._require_text()\n",
    "        if self._html is None:\n",
    "            self._html = lxml.html.fromstring(self._text)\n",
    "            \n",
    "    @property\n",
    "    def id(self):\n",
    "        match = re.search(r'\\d{7,}$', self.url)\n",
    "        if match:\n",
    "            return match.group(0)\n",
    "            \n",
    "        "
   ]
  },
  {
   "cell_type": "code",
   "execution_count": 8,
   "metadata": {},
   "outputs": [],
   "source": [
    "page1 = Page(urljoin(BASE_URL, urls[0]))\n",
    "page2 = Page(urljoin(BASE_URL, urls[-1]))"
   ]
  },
  {
   "cell_type": "code",
   "execution_count": 9,
   "metadata": {},
   "outputs": [
    {
     "data": {
      "text/plain": [
       "({'article:author': 'https://www.facebook.com/bbcnews',\n",
       "  'article:section': 'BBC Trending',\n",
       "  'fb:admins': '100004154058350',\n",
       "  'fb:app_id': '1609039196070050',\n",
       "  'fb:pages': '1143803202301544,317278538359186,1392506827668140,742734325867560,185246968166196,156060587793370,137920769558355,193435954068976,21263239760,156400551056385,929399697073756,154344434967,228735667216,80758950658,260212261199,294662213128,1086451581439054,283348121682053,295830058648,239931389545417,304314573046,310719525611571,647687225371774,1159932557403143,286567251709437,1731770190373618,125309456546,163571453661989,285361880228,512423982152360,238003846549831,176663550714,260967092113,118450564909230,100978706649892,15286229625,122103087870579,120655094632228,102814153147070,124715648647,153132638110668,150467675018739',\n",
       "  'og:description': \"Moscow is accused of using the World Cup as a 'distraction' as pension age increases are proposed.\",\n",
       "  'og:image': 'https://ichef.bbci.co.uk/news/1024/branded_news/14E45/production/_102037558_russiaretirementpic.jpg',\n",
       "  'og:image:alt': 'BBC News. A man sits on a bench looking sad.',\n",
       "  'og:locale': 'en_GB',\n",
       "  'og:site_name': 'BBC News',\n",
       "  'og:title': \"'43% of Russian men won't live to retirement'\",\n",
       "  'og:type': 'article',\n",
       "  'og:url': 'https://www.bbc.co.uk/news/blogs-trending-44495136'},\n",
       " {'article:author': 'https://www.facebook.com/bbcnews',\n",
       "  'article:section': 'US & Canada',\n",
       "  'fb:admins': '100004154058350',\n",
       "  'fb:app_id': '1609039196070050',\n",
       "  'fb:pages': '1143803202301544,317278538359186,1392506827668140,742734325867560,185246968166196,156060587793370,137920769558355,193435954068976,21263239760,156400551056385,929399697073756,154344434967,228735667216,80758950658,260212261199,294662213128,1086451581439054,283348121682053,295830058648,239931389545417,304314573046,310719525611571,647687225371774,1159932557403143,286567251709437,1731770190373618,125309456546,163571453661989,285361880228,512423982152360,238003846549831,176663550714,260967092113,118450564909230,100978706649892,15286229625,122103087870579,120655094632228,102814153147070,124715648647,153132638110668,150467675018739',\n",
       "  'og:description': 'The head of Puerto Rico\\'s capital calls the response to Hurricane Maria a \"stain\" on the presidency.',\n",
       "  'og:image': 'https://ichef.bbci.co.uk/news/1024/branded_news/3319/production/_103218031_mediaitem103218030.jpg',\n",
       "  'og:image:alt': 'BBC News. A Puerto Rican flag on a pair of shoes among hundreds displayed in memory of those killed by Hurricane Maria in front of the Puerto Rican Capitol, in San Juan (file photo)',\n",
       "  'og:locale': 'en_GB',\n",
       "  'og:site_name': 'BBC News',\n",
       "  'og:title': \"Mayor lambasts Trump's hurricane 'shame'\",\n",
       "  'og:type': 'article',\n",
       "  'og:url': 'https://www.bbc.co.uk/news/world-us-canada-45348356'})"
      ]
     },
     "execution_count": 9,
     "metadata": {},
     "output_type": "execute_result"
    }
   ],
   "source": [
    "page1.extract_meta_properties(), page2.extract_meta_properties()"
   ]
  },
  {
   "cell_type": "code",
   "execution_count": 10,
   "metadata": {},
   "outputs": [
    {
     "data": {
      "text/plain": [
       "({'https://www.bbc.com/news/business-11428889',\n",
       "  'https://www.bbc.com/news/business-12686570',\n",
       "  'https://www.bbc.com/news/business-22434141',\n",
       "  'https://www.bbc.com/news/business-38507481'},\n",
       " {'https://www.bbc.com/news/business-11428889',\n",
       "  'https://www.bbc.com/news/business-12686570',\n",
       "  'https://www.bbc.com/news/business-22434141',\n",
       "  'https://www.bbc.com/news/business-38507481',\n",
       "  'https://www.bbc.com/news/newsbeat-45245349',\n",
       "  'https://www.bbc.com/news/uk-41405671',\n",
       "  'https://www.bbc.com/news/world-asia-india-45339265',\n",
       "  'https://www.bbc.com/news/world-europe-45328477',\n",
       "  'https://www.bbc.com/news/world-europe-45342536',\n",
       "  'https://www.bbc.com/news/world-europe-45342721',\n",
       "  'https://www.bbc.com/news/world-us-canada-17139243',\n",
       "  'https://www.bbc.com/news/world-us-canada-41377185',\n",
       "  'https://www.bbc.com/news/world-us-canada-41398263',\n",
       "  'https://www.bbc.com/news/world-us-canada-41447184',\n",
       "  'https://www.bbc.com/news/world-us-canada-41452995',\n",
       "  'https://www.bbc.com/news/world-us-canada-41598616',\n",
       "  'https://www.bbc.com/news/world-us-canada-43818179',\n",
       "  'https://www.bbc.com/news/world-us-canada-45127972',\n",
       "  'https://www.bbc.com/news/world-us-canada-45329320',\n",
       "  'https://www.bbc.com/news/world-us-canada-45338080',\n",
       "  'https://www.bbc.com/news/world-us-canada-45348356'})"
      ]
     },
     "execution_count": 10,
     "metadata": {},
     "output_type": "execute_result"
    }
   ],
   "source": [
    "page1.extract_urls(), page2.extract_urls()"
   ]
  },
  {
   "cell_type": "code",
   "execution_count": 11,
   "metadata": {},
   "outputs": [],
   "source": [
    "class CachedPage(Page):\n",
    "    def __init__(self, url, data_dir):\n",
    "        super().__init__(url)\n",
    "        self._data_dir = data_dir\n",
    "        \n",
    "    def is_cached(self):\n",
    "        _id = self.id\n",
    "        return bool(_id) and self._build_path(_id).exists()\n",
    "    \n",
    "    def purge_cache(self):\n",
    "        path = self._build_path(self.id)\n",
    "        if path.exists():\n",
    "            path.unlink()\n",
    "        \n",
    "    def _require_text(self):\n",
    "        if self._text:\n",
    "            return\n",
    "        _id = self.id\n",
    "        path = None\n",
    "        if _id:\n",
    "            # check if we have the page in cache\n",
    "            path = self._build_path(_id)\n",
    "            if path.exists():\n",
    "                with path.open() as file_obj:\n",
    "                    self._text = file_obj.read()\n",
    "                return\n",
    "        super()._require_text()\n",
    "        if path:\n",
    "            # save a local copy\n",
    "            with path.open('w') as file_obj:\n",
    "                file_obj.write(self._text)\n",
    "                logging.info('cached %s', path)                \n",
    "\n",
    "    def _build_path(self, id_):\n",
    "        return self._data_dir.joinpath('{}.html'.format(id_))"
   ]
  },
  {
   "cell_type": "code",
   "execution_count": 12,
   "metadata": {},
   "outputs": [
    {
     "name": "stderr",
     "output_type": "stream",
     "text": [
      "INFO:root:cached data/45348356.html\n"
     ]
    },
    {
     "data": {
      "text/plain": [
       "{'article:author': 'https://www.facebook.com/bbcnews',\n",
       " 'article:section': 'US & Canada',\n",
       " 'fb:admins': '100004154058350',\n",
       " 'fb:app_id': '1609039196070050',\n",
       " 'fb:pages': '1143803202301544,317278538359186,1392506827668140,742734325867560,185246968166196,156060587793370,137920769558355,193435954068976,21263239760,156400551056385,929399697073756,154344434967,228735667216,80758950658,260212261199,294662213128,1086451581439054,283348121682053,295830058648,239931389545417,304314573046,310719525611571,647687225371774,1159932557403143,286567251709437,1731770190373618,125309456546,163571453661989,285361880228,512423982152360,238003846549831,176663550714,260967092113,118450564909230,100978706649892,15286229625,122103087870579,120655094632228,102814153147070,124715648647,153132638110668,150467675018739',\n",
       " 'og:description': 'The head of Puerto Rico\\'s capital calls the response to Hurricane Maria a \"stain\" on the presidency.',\n",
       " 'og:image': 'https://ichef.bbci.co.uk/news/1024/branded_news/3319/production/_103218031_mediaitem103218030.jpg',\n",
       " 'og:image:alt': 'BBC News. A Puerto Rican flag on a pair of shoes among hundreds displayed in memory of those killed by Hurricane Maria in front of the Puerto Rican Capitol, in San Juan (file photo)',\n",
       " 'og:locale': 'en_GB',\n",
       " 'og:site_name': 'BBC News',\n",
       " 'og:title': \"Mayor lambasts Trump's hurricane 'shame'\",\n",
       " 'og:type': 'article',\n",
       " 'og:url': 'https://www.bbc.co.uk/news/world-us-canada-45348356'}"
      ]
     },
     "execution_count": 12,
     "metadata": {},
     "output_type": "execute_result"
    }
   ],
   "source": [
    "page1 = CachedPage(urljoin(BASE_URL, urls[-1]), DATA_DIR)\n",
    "page1.extract_meta_properties()"
   ]
  },
  {
   "cell_type": "code",
   "execution_count": 13,
   "metadata": {},
   "outputs": [],
   "source": [
    "class BbcCrawler:\n",
    "    def __init__(self, start_url=BASE_URL, data_dir=DATA_DIR, min_http_interval=1):\n",
    "        self._yet_to_visit = deque([start_url])\n",
    "        self._visited = set()\n",
    "        assert min_http_interval > 0.5\n",
    "        self._min_http_interval = min_http_interval\n",
    "        # not to slow down the first call\n",
    "        self._prev_http_time = time.time() - min_http_interval\n",
    "\n",
    "        self._data_dir = data_dir\n",
    "        self.stats = defaultdict(int)\n",
    "                \n",
    "    def __iter__(self):\n",
    "        return self\n",
    "    \n",
    "    def __next__(self):\n",
    "        if not self._yet_to_visit:\n",
    "            raise StopIteration()\n",
    "        while True:\n",
    "            next_url = self._yet_to_visit.popleft()\n",
    "            page = CachedPage(next_url, self._data_dir)\n",
    "            # skip visited\n",
    "            if page.id in self._visited:\n",
    "                continue\n",
    "\n",
    "            is_cached = page.is_cached()\n",
    "            # cached versions of news lists are not used\n",
    "            if is_cached:\n",
    "                meta = page.extract_meta_properties()\n",
    "                if meta.get('og:type') == 'website':\n",
    "                    page.purge_cache()\n",
    "                is_cached = False\n",
    "            # keep the interval between http calls\n",
    "            if not is_cached:\n",
    "                cur_time = time.time()\n",
    "                to_wait = self._prev_http_time + self._min_http_interval - cur_time\n",
    "                if to_wait > 0:\n",
    "                    time.sleep(to_wait)\n",
    "                self._prev_http_time = time.time()\n",
    "\n",
    "            # add extracted urls to the list\n",
    "            try:\n",
    "                urls = page.extract_urls()\n",
    "            except requests.HTTPError as err:\n",
    "                logging.error('failure with the url %s: %s', next_url, err)\n",
    "                continue\n",
    "                \n",
    "            self._visited.add(page.id)\n",
    "            for url in urls:\n",
    "                new_page_id = Page(url).id\n",
    "                if new_page_id in self._visited:\n",
    "                    continue\n",
    "                self._yet_to_visit.append(url)\n",
    "            meta = page.extract_meta_properties()\n",
    "            meta_type = meta.get('og:type')\n",
    "            self.stats['type:{}'.format(meta_type)] += 1\n",
    "            if meta_type == 'article':\n",
    "                self.stats['section:{}'.format(meta.get('article:section'))] += 1\n",
    "            self.stats['total'] += 1\n",
    "            break\n",
    "        return next_url\n"
   ]
  },
  {
   "cell_type": "code",
   "execution_count": 14,
   "metadata": {},
   "outputs": [
    {
     "name": "stdout",
     "output_type": "stream",
     "text": [
      "https://www.bbc.com/news\n"
     ]
    },
    {
     "name": "stderr",
     "output_type": "stream",
     "text": [
      "INFO:root:cached data/11428889.html\n"
     ]
    },
    {
     "name": "stdout",
     "output_type": "stream",
     "text": [
      "https://www.bbc.com/news/business-11428889\n"
     ]
    },
    {
     "name": "stderr",
     "output_type": "stream",
     "text": [
      "INFO:root:cached data/45347228.html\n"
     ]
    },
    {
     "name": "stdout",
     "output_type": "stream",
     "text": [
      "https://www.bbc.com/news/world-europe-45347228\n"
     ]
    },
    {
     "name": "stderr",
     "output_type": "stream",
     "text": [
      "INFO:root:cached data/44709253.html\n"
     ]
    },
    {
     "name": "stdout",
     "output_type": "stream",
     "text": [
      "https://www.bbc.com/news/world-europe-44709253\n"
     ]
    },
    {
     "name": "stderr",
     "output_type": "stream",
     "text": [
      "INFO:root:cached data/45343328.html\n"
     ]
    },
    {
     "name": "stdout",
     "output_type": "stream",
     "text": [
      "https://www.bbc.com/news/world-us-canada-45343328\n"
     ]
    },
    {
     "name": "stderr",
     "output_type": "stream",
     "text": [
      "INFO:root:cached data/45339265.html\n"
     ]
    },
    {
     "name": "stdout",
     "output_type": "stream",
     "text": [
      "https://www.bbc.com/news/world-asia-india-45339265\n"
     ]
    },
    {
     "name": "stderr",
     "output_type": "stream",
     "text": [
      "INFO:root:cached data/45339727.html\n"
     ]
    },
    {
     "name": "stdout",
     "output_type": "stream",
     "text": [
      "https://www.bbc.com/news/world-australia-45339727\n"
     ]
    },
    {
     "name": "stderr",
     "output_type": "stream",
     "text": [
      "INFO:root:cached data/45333440.html\n"
     ]
    },
    {
     "name": "stdout",
     "output_type": "stream",
     "text": [
      "https://www.bbc.com/news/world-us-canada-45333440\n"
     ]
    },
    {
     "name": "stderr",
     "output_type": "stream",
     "text": [
      "INFO:root:cached data/44495136.html\n"
     ]
    },
    {
     "name": "stdout",
     "output_type": "stream",
     "text": [
      "https://www.bbc.com/news/blogs-trending-44495136\n"
     ]
    },
    {
     "name": "stderr",
     "output_type": "stream",
     "text": [
      "INFO:root:cached data/45334160.html\n"
     ]
    },
    {
     "name": "stdout",
     "output_type": "stream",
     "text": [
      "https://www.bbc.com/news/stories-45334160\n"
     ]
    }
   ],
   "source": [
    "from itertools import islice\n",
    "crawler = BbcCrawler()\n",
    "for url in islice(crawler, 0, 10):\n",
    "    print(url)"
   ]
  },
  {
   "cell_type": "code",
   "execution_count": 15,
   "metadata": {},
   "outputs": [
    {
     "data": {
      "text/plain": [
       "defaultdict(int,\n",
       "            {'section:BBC Trending': 1,\n",
       "             'section:Europe': 2,\n",
       "             'section:India': 1,\n",
       "             'total': 10,\n",
       "             'type:article': 4,\n",
       "             'type:website': 6})"
      ]
     },
     "execution_count": 15,
     "metadata": {},
     "output_type": "execute_result"
    }
   ],
   "source": [
    "crawler.stats"
   ]
  },
  {
   "cell_type": "code",
   "execution_count": 16,
   "metadata": {},
   "outputs": [
    {
     "data": {
      "text/plain": [
       "(182,\n",
       " defaultdict(int,\n",
       "             {'section:BBC Trending': 1,\n",
       "              'section:Europe': 2,\n",
       "              'section:India': 1,\n",
       "              'total': 10,\n",
       "              'type:article': 4,\n",
       "              'type:website': 6}))"
      ]
     },
     "execution_count": 16,
     "metadata": {},
     "output_type": "execute_result"
    }
   ],
   "source": [
    "# for url in islice(crawler, 0, 2000): pass\n",
    "len(crawler._yet_to_visit), crawler.stats"
   ]
  },
  {
   "cell_type": "code",
   "execution_count": null,
   "metadata": {},
   "outputs": [],
   "source": []
  },
  {
   "cell_type": "code",
   "execution_count": null,
   "metadata": {},
   "outputs": [],
   "source": []
  }
 ],
 "metadata": {
  "kernelspec": {
   "display_name": "Python 3",
   "language": "python",
   "name": "python3"
  },
  "language_info": {
   "codemirror_mode": {
    "name": "ipython",
    "version": 3
   },
   "file_extension": ".py",
   "mimetype": "text/x-python",
   "name": "python",
   "nbconvert_exporter": "python",
   "pygments_lexer": "ipython3",
   "version": "3.6.3"
  }
 },
 "nbformat": 4,
 "nbformat_minor": 2
}
